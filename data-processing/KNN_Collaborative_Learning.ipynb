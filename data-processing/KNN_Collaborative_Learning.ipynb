{
 "cells": [
  {
   "cell_type": "code",
   "execution_count": null,
   "metadata": {
    "colab": {
     "base_uri": "https://localhost:8080/"
    },
    "id": "lUkw_C2ieR8J",
    "outputId": "541e75aa-c98b-46f5-983d-f5643b6ab544"
   },
   "outputs": [],
   "source": []
  },
  {
   "cell_type": "markdown",
   "metadata": {
    "id": "3ehiKtNidwiu"
   },
   "source": [
    "# Importing the Libraries"
   ]
  },
  {
   "cell_type": "code",
   "execution_count": 1,
   "metadata": {
    "colab": {
     "base_uri": "https://localhost:8080/"
    },
    "id": "50UmQtbY3HUR",
    "outputId": "cc66e8d9-3791-4fd3-bdc5-634c7df7e69b",
    "scrolled": true
   },
   "outputs": [
    {
     "name": "stdout",
     "output_type": "stream",
     "text": [
      "Collecting scikit-surprise\n",
      "  Downloading scikit-surprise-1.1.3.tar.gz (771 kB)\n",
      "     -------------------------------------- 772.0/772.0 kB 3.0 MB/s eta 0:00:00\n",
      "  Preparing metadata (setup.py): started\n",
      "  Preparing metadata (setup.py): finished with status 'done'\n",
      "Requirement already satisfied: joblib>=1.0.0 in c:\\users\\hchinta1\\anaconda3\\lib\\site-packages (from scikit-surprise) (1.1.0)\n",
      "Requirement already satisfied: numpy>=1.17.3 in c:\\users\\hchinta1\\anaconda3\\lib\\site-packages (from scikit-surprise) (1.21.5)\n",
      "Requirement already satisfied: scipy>=1.3.2 in c:\\users\\hchinta1\\anaconda3\\lib\\site-packages (from scikit-surprise) (1.9.1)\n",
      "Building wheels for collected packages: scikit-surprise\n",
      "  Building wheel for scikit-surprise (setup.py): started\n",
      "  Building wheel for scikit-surprise (setup.py): finished with status 'done'\n",
      "  Created wheel for scikit-surprise: filename=scikit_surprise-1.1.3-cp39-cp39-win_amd64.whl size=1095050 sha256=5f42e2a94945372eee12f4266b0852ba83b36e384a6705394cb9f6cc0d6fa2c3\n",
      "  Stored in directory: c:\\users\\hchinta1\\appdata\\local\\pip\\cache\\wheels\\c6\\3a\\46\\9b17b3512bdf283c6cb84f59929cdd5199d4e754d596d22784\n",
      "Successfully built scikit-surprise\n",
      "Installing collected packages: scikit-surprise\n",
      "Successfully installed scikit-surprise-1.1.3\n"
     ]
    }
   ],
   "source": [
    "!pip install scikit-surprise\n",
    "import os\n",
    "import pandas as pd"
   ]
  },
  {
   "cell_type": "code",
   "execution_count": 2,
   "metadata": {
    "id": "cIXQua8x3uiE"
   },
   "outputs": [],
   "source": [
    "from surprise import Reader\n",
    "from surprise import Dataset\n",
    "from surprise.model_selection import KFold\n",
    "from surprise.model_selection import cross_validate\n",
    "from surprise.model_selection import train_test_split\n",
    "from surprise.model_selection import GridSearchCV\n",
    "from surprise.accuracy import rmse\n",
    "from collections import defaultdict\n",
    "from surprise import KNNBasic\n",
    "from surprise import SVD\n",
    "from surprise import SVDpp\n",
    "from surprise import NMF\n",
    "from surprise import accuracy\n",
    "from surprise import AlgoBase\n",
    "from surprise.model_selection import KFold\n"
   ]
  },
  {
   "cell_type": "markdown",
   "metadata": {
    "id": "zVQfdAHBdzE-"
   },
   "source": [
    "# Helper functions"
   ]
  },
  {
   "cell_type": "code",
   "execution_count": 3,
   "metadata": {
    "id": "Mn9bpy8e3zBo"
   },
   "outputs": [],
   "source": [
    "# Function to load the ratings and movies datasets\n",
    "\n",
    "# dir = '/content/drive/MyDrive/SWM/Data'\n",
    "def loadDataset():\n",
    "  # ratings_df = pd.read_csv(dir+'/ratings.csv')\n",
    "  # movies_df = pd.read_csv(dir+'/movies.csv')\n",
    "  ratings_df = pd.read_csv('./Data/ratings.csv')\n",
    "  movies_df = pd.read_csv('./Data/movies.csv')\n",
    "  \n",
    "  ratings_df.drop('timestamp',axis =1, inplace = True)\n",
    "\n",
    "  return ratings_df,movies_df\n"
   ]
  },
  {
   "cell_type": "code",
   "execution_count": 4,
   "metadata": {
    "id": "iceY3j5XAs3x"
   },
   "outputs": [],
   "source": [
    "# Calculates the evaluations metrics Precision and Recall for each loop of cross validation\n",
    "\n",
    "def metricsAtK(predictions, k=10, threshold=3.5):\n",
    "\n",
    "    # dictionary to store user and the respective predicted ratings of the movies\n",
    "    user_predicted = defaultdict(list)\n",
    "    for u_id, _, rating_actual, rating_predicted, _ in predictions:\n",
    "        user_predicted[u_id].append((rating_predicted, rating_actual))\n",
    "\n",
    "    precisions = dict()\n",
    "    recalls = dict()\n",
    "\n",
    "    for u_id, u_ratings in user_predicted.items():\n",
    "        u_ratings.sort(key=lambda x: x[0], reverse=True)\n",
    "\n",
    "        # Calculating actual values of the ratings\n",
    "        actual = sum((ratings_true >= threshold) for (_, ratings_true) in u_ratings)\n",
    "        # Calculating predicted values of the ratings\n",
    "        predicted = sum((estimate_value >= threshold) for (estimate_value, _) in u_ratings[:k])\n",
    "\n",
    "        # Calculating true positives and negatives\n",
    "        positive_true = sum(((ratings_true >= threshold) and (estimate_value >= threshold))\n",
    "                              for (estimate_value, ratings_true) in u_ratings[:k])\n",
    "        negative_true = sum(((ratings_true < threshold) and (estimate_value < threshold))\n",
    "                              for (estimate_value, ratings_true) in u_ratings[:k])\n",
    "        \n",
    "        # Calculating actual and predicted positives and negatives\n",
    "        positive_predicted = predicted if predicted != 0 else 1\n",
    "        negative_predicted = predicted if predicted != 1 else 0\n",
    "        positive_actual = actual if actual != 0 else 1\n",
    "        negative_actual = actual if actual != 1 else 0\n",
    "\n",
    "        # Calculating precision, recall and accuracy\n",
    "        precisions[u_id] = positive_true / positive_predicted\n",
    "        recalls[u_id] = positive_true / positive_actual\n",
    "\n",
    "    return precisions, recalls"
   ]
  },
  {
   "cell_type": "code",
   "execution_count": 5,
   "metadata": {
    "id": "-4MHnwYW_E_v"
   },
   "outputs": [],
   "source": [
    "def fit(model, ratings_data, num_of_splits=5):\n",
    "  # Generator object for k - cross validation\n",
    "  kf = KFold(n_splits=num_of_splits)\n",
    "  split_df = list()\n",
    "\n",
    "  i = 1\n",
    "  for train, test in kf.split(ratings_data):\n",
    "      predictions = model.fit(train).test(test)\n",
    "      rmse = accuracy.rmse(predictions, verbose=False)\n",
    "      mae = accuracy.mae(predictions, verbose=False)\n",
    "      precisions, recalls = metricsAtK(predictions, k=5, threshold=4)\n",
    "      precision = sum(prec for prec in precisions.values()) / len(precisions)\n",
    "      recall = sum(rec for rec in recalls.values()) / len(recalls)\n",
    "      f1_score = (2*precision*recall)/(precision+recall)\n",
    "      split_df.append([i,precision,recall,rmse,f1_score,mae])\n",
    "      i +=1\n",
    "\n",
    "  split_df = pd.DataFrame(split_df, columns=['Split', 'Precision', 'Recall', 'RMSE', 'F1 Score', 'MAE'])\n",
    "  return split_df"
   ]
  },
  {
   "cell_type": "code",
   "execution_count": 6,
   "metadata": {
    "id": "mdr-TtsE5QbP"
   },
   "outputs": [],
   "source": [
    "def getSortedPredictions(predictions):\n",
    "    \n",
    "    sorted_predictions = defaultdict(list)    \n",
    "    for u_id, id, _, rating_predicted, _ in predictions:\n",
    "        sorted_predictions[u_id].append((id, rating_predicted))\n",
    "\n",
    "    for u_id, u_ratings in sorted_predictions.items():\n",
    "        u_ratings.sort(key=lambda x: x[1], reverse=True)\n",
    "\n",
    "    return sorted_predictions"
   ]
  },
  {
   "cell_type": "code",
   "execution_count": 7,
   "metadata": {
    "id": "W9zO2p572dNH"
   },
   "outputs": [],
   "source": [
    "def inference(model):\n",
    "  trainset = ratings_data.build_full_trainset()\n",
    "\n",
    "  # build_anti_testset will generate the entires for the movies which the user has not rated. i.e \n",
    "  # The completement of the user's ratings. It assumes the rating to be equal to the global mean of the ratings.\n",
    "  testset = trainset.build_anti_testset() \n",
    "\n",
    "  # Training the model with trainset and getting predictions using the generated testset\n",
    "  model.fit(trainset)\n",
    "  predictions = model.test(testset)\n",
    "\n",
    "  return predictions\n"
   ]
  },
  {
   "cell_type": "code",
   "execution_count": 8,
   "metadata": {
    "id": "GnS-kPwGCxJc"
   },
   "outputs": [],
   "source": [
    "# Post processing the predictions to produce the list of recommendations\n",
    "def getRecommendations(predictions, n=10):\n",
    "\n",
    "  # Getting sorted predictions\n",
    "  total = getSortedPredictions(predictions)\n",
    "\n",
    "  # Extracting only n number of movie predictions\n",
    "  for user_id, user_ratings in total.items():\n",
    "      total[user_id] = user_ratings[:n]\n",
    "\n",
    "  total_df = pd.DataFrame.from_dict(total)\n",
    "  total_df = total_df.transpose()\n",
    "\n",
    "  result = []\n",
    "  for user_id,user_ratings in total.items():\n",
    "    result.append(total_df.loc[user_id])\n",
    "\n",
    "  #Developing recommendations\n",
    "  recommendations = []\n",
    "  for i in result:\n",
    "    recommended_movieIds=[]\n",
    "    for x in range(0, n):\n",
    "      recommended_movieIds.append(i[x][0])\n",
    "    recommendations.append(recommended_movieIds)\n",
    "\n",
    "  recommendation_list = []\n",
    "  for i in recommendations:\n",
    "    df = movies_df[movies_df['movieId'].isin(i)]\n",
    "    temp = df['title'].tolist()\n",
    "    recommendation_list.append(temp)\n",
    "\n",
    "  recommendation_df = pd.DataFrame(recommendation_list)\n",
    "  return recommendation_df\n"
   ]
  },
  {
   "cell_type": "markdown",
   "metadata": {
    "id": "20IkoEjpDBjA"
   },
   "source": [
    "# Loading Dataset"
   ]
  },
  {
   "cell_type": "code",
   "execution_count": 9,
   "metadata": {
    "id": "NuuuvWhBDA-y"
   },
   "outputs": [],
   "source": [
    "ratings_df , movies_df = loadDataset()"
   ]
  },
  {
   "cell_type": "code",
   "execution_count": 10,
   "metadata": {
    "id": "PL-r5h0kDA7W"
   },
   "outputs": [],
   "source": [
    "reader = Reader(rating_scale=(0.5, 5.0))\n",
    "ratings_keys = ['userId', 'movieId', 'rating']\n",
    "ratings_filter = ratings_df[ratings_keys]\n",
    "ratings_data = Dataset.load_from_df(ratings_filter, reader)"
   ]
  },
  {
   "cell_type": "markdown",
   "metadata": {
    "id": "lOmbF8IHerKE"
   },
   "source": [
    "# Modelling Section"
   ]
  },
  {
   "cell_type": "markdown",
   "metadata": {
    "id": "cHpXxK15e87g"
   },
   "source": [
    "## K Nearest Neighbors"
   ]
  },
  {
   "cell_type": "markdown",
   "metadata": {
    "id": "_uihNmq5iExR"
   },
   "source": [
    "### Using MSD similarity"
   ]
  },
  {
   "cell_type": "code",
   "execution_count": 11,
   "metadata": {
    "id": "cDpRMJVkaksh"
   },
   "outputs": [],
   "source": [
    "msd_knn = KNNBasic(k= 40, n_epochs=20)\n",
    "#msd_preds = msd_knn.fit(trainset).test(testset)\n"
   ]
  },
  {
   "cell_type": "code",
   "execution_count": 12,
   "metadata": {
    "colab": {
     "base_uri": "https://localhost:8080/",
     "height": 380
    },
    "id": "oXRarMQyCaDP",
    "outputId": "dadfb26a-ffd5-42cd-fee0-f5b82a236971"
   },
   "outputs": [
    {
     "name": "stdout",
     "output_type": "stream",
     "text": [
      "Computing the msd similarity matrix...\n",
      "Done computing similarity matrix.\n",
      "Computing the msd similarity matrix...\n",
      "Done computing similarity matrix.\n",
      "Computing the msd similarity matrix...\n",
      "Done computing similarity matrix.\n",
      "Computing the msd similarity matrix...\n",
      "Done computing similarity matrix.\n",
      "Computing the msd similarity matrix...\n",
      "Done computing similarity matrix.\n"
     ]
    },
    {
     "data": {
      "text/html": [
       "<div>\n",
       "<style scoped>\n",
       "    .dataframe tbody tr th:only-of-type {\n",
       "        vertical-align: middle;\n",
       "    }\n",
       "\n",
       "    .dataframe tbody tr th {\n",
       "        vertical-align: top;\n",
       "    }\n",
       "\n",
       "    .dataframe thead th {\n",
       "        text-align: right;\n",
       "    }\n",
       "</style>\n",
       "<table border=\"1\" class=\"dataframe\">\n",
       "  <thead>\n",
       "    <tr style=\"text-align: right;\">\n",
       "      <th></th>\n",
       "      <th>Split</th>\n",
       "      <th>Precision</th>\n",
       "      <th>Recall</th>\n",
       "      <th>RMSE</th>\n",
       "      <th>F1 Score</th>\n",
       "      <th>MAE</th>\n",
       "    </tr>\n",
       "  </thead>\n",
       "  <tbody>\n",
       "    <tr>\n",
       "      <th>0</th>\n",
       "      <td>1</td>\n",
       "      <td>0.671940</td>\n",
       "      <td>0.276930</td>\n",
       "      <td>0.947999</td>\n",
       "      <td>0.392215</td>\n",
       "      <td>0.725111</td>\n",
       "    </tr>\n",
       "    <tr>\n",
       "      <th>1</th>\n",
       "      <td>2</td>\n",
       "      <td>0.672350</td>\n",
       "      <td>0.261450</td>\n",
       "      <td>0.947533</td>\n",
       "      <td>0.376496</td>\n",
       "      <td>0.725553</td>\n",
       "    </tr>\n",
       "    <tr>\n",
       "      <th>2</th>\n",
       "      <td>3</td>\n",
       "      <td>0.675369</td>\n",
       "      <td>0.272897</td>\n",
       "      <td>0.946729</td>\n",
       "      <td>0.388722</td>\n",
       "      <td>0.722828</td>\n",
       "    </tr>\n",
       "    <tr>\n",
       "      <th>3</th>\n",
       "      <td>4</td>\n",
       "      <td>0.672195</td>\n",
       "      <td>0.273666</td>\n",
       "      <td>0.948169</td>\n",
       "      <td>0.388973</td>\n",
       "      <td>0.728530</td>\n",
       "    </tr>\n",
       "    <tr>\n",
       "      <th>4</th>\n",
       "      <td>5</td>\n",
       "      <td>0.665654</td>\n",
       "      <td>0.261422</td>\n",
       "      <td>0.943976</td>\n",
       "      <td>0.375409</td>\n",
       "      <td>0.725491</td>\n",
       "    </tr>\n",
       "  </tbody>\n",
       "</table>\n",
       "</div>"
      ],
      "text/plain": [
       "   Split  Precision    Recall      RMSE  F1 Score       MAE\n",
       "0      1   0.671940  0.276930  0.947999  0.392215  0.725111\n",
       "1      2   0.672350  0.261450  0.947533  0.376496  0.725553\n",
       "2      3   0.675369  0.272897  0.946729  0.388722  0.722828\n",
       "3      4   0.672195  0.273666  0.948169  0.388973  0.728530\n",
       "4      5   0.665654  0.261422  0.943976  0.375409  0.725491"
      ]
     },
     "execution_count": 12,
     "metadata": {},
     "output_type": "execute_result"
    }
   ],
   "source": [
    "# Generating evaluation metrics Precision, Recall, F1-Score, RMSE, MAE for the ratings dataset\n",
    "msd_metrics = fit(msd_knn, ratings_data)\n",
    "msd_metrics"
   ]
  },
  {
   "cell_type": "code",
   "execution_count": 13,
   "metadata": {
    "colab": {
     "base_uri": "https://localhost:8080/"
    },
    "id": "SOhE7gjrCZ_o",
    "outputId": "b4f5e165-d493-4a98-85bb-b18a05ef7582"
   },
   "outputs": [
    {
     "name": "stdout",
     "output_type": "stream",
     "text": [
      "Computing the msd similarity matrix...\n",
      "Done computing similarity matrix.\n"
     ]
    }
   ],
   "source": [
    "msd_predictions = inference(msd_knn)\n"
   ]
  },
  {
   "cell_type": "code",
   "execution_count": 15,
   "metadata": {
    "id": "xASqG7sPCZ7-"
   },
   "outputs": [],
   "source": [
    "msd_df = getRecommendations(msd_predictions)\n",
    "msd_df.to_csv('msd_knn.csv',index = False)\n"
   ]
  },
  {
   "cell_type": "markdown",
   "metadata": {
    "id": "PCAJpCXmjBJ4"
   },
   "source": [
    "### Using Pearson Correlation"
   ]
  },
  {
   "cell_type": "code",
   "execution_count": 16,
   "metadata": {
    "id": "GJ11WcDMigH9"
   },
   "outputs": [],
   "source": [
    "# Defining the similarity options with pearson correlation.\n",
    "sim_options = {\n",
    "    'name': 'pearson'\n",
    "}\n",
    "\n",
    "pearson_knn = KNNBasic(k= 35, n_epochs=25,sim_options = sim_options)\n",
    "#cosine_preds = cosine_knn.fit(trainset).test(testset)\n",
    "\n"
   ]
  },
  {
   "cell_type": "code",
   "execution_count": 17,
   "metadata": {
    "colab": {
     "base_uri": "https://localhost:8080/",
     "height": 380
    },
    "id": "nMIVlJ72AV72",
    "outputId": "1932541e-da17-4164-c36f-058b312ebcca"
   },
   "outputs": [
    {
     "name": "stdout",
     "output_type": "stream",
     "text": [
      "Computing the pearson similarity matrix...\n",
      "Done computing similarity matrix.\n",
      "Computing the pearson similarity matrix...\n",
      "Done computing similarity matrix.\n",
      "Computing the pearson similarity matrix...\n",
      "Done computing similarity matrix.\n",
      "Computing the pearson similarity matrix...\n",
      "Done computing similarity matrix.\n",
      "Computing the pearson similarity matrix...\n",
      "Done computing similarity matrix.\n"
     ]
    },
    {
     "data": {
      "text/html": [
       "<div>\n",
       "<style scoped>\n",
       "    .dataframe tbody tr th:only-of-type {\n",
       "        vertical-align: middle;\n",
       "    }\n",
       "\n",
       "    .dataframe tbody tr th {\n",
       "        vertical-align: top;\n",
       "    }\n",
       "\n",
       "    .dataframe thead th {\n",
       "        text-align: right;\n",
       "    }\n",
       "</style>\n",
       "<table border=\"1\" class=\"dataframe\">\n",
       "  <thead>\n",
       "    <tr style=\"text-align: right;\">\n",
       "      <th></th>\n",
       "      <th>Split</th>\n",
       "      <th>Precision</th>\n",
       "      <th>Recall</th>\n",
       "      <th>RMSE</th>\n",
       "      <th>F1 Score</th>\n",
       "      <th>MAE</th>\n",
       "    </tr>\n",
       "  </thead>\n",
       "  <tbody>\n",
       "    <tr>\n",
       "      <th>0</th>\n",
       "      <td>1</td>\n",
       "      <td>0.660546</td>\n",
       "      <td>0.253140</td>\n",
       "      <td>0.961238</td>\n",
       "      <td>0.366013</td>\n",
       "      <td>0.744061</td>\n",
       "    </tr>\n",
       "    <tr>\n",
       "      <th>1</th>\n",
       "      <td>2</td>\n",
       "      <td>0.650219</td>\n",
       "      <td>0.246703</td>\n",
       "      <td>0.979441</td>\n",
       "      <td>0.357692</td>\n",
       "      <td>0.753912</td>\n",
       "    </tr>\n",
       "    <tr>\n",
       "      <th>2</th>\n",
       "      <td>3</td>\n",
       "      <td>0.642295</td>\n",
       "      <td>0.244734</td>\n",
       "      <td>0.969965</td>\n",
       "      <td>0.354422</td>\n",
       "      <td>0.750371</td>\n",
       "    </tr>\n",
       "    <tr>\n",
       "      <th>3</th>\n",
       "      <td>4</td>\n",
       "      <td>0.658907</td>\n",
       "      <td>0.250208</td>\n",
       "      <td>0.983169</td>\n",
       "      <td>0.362690</td>\n",
       "      <td>0.758474</td>\n",
       "    </tr>\n",
       "    <tr>\n",
       "      <th>4</th>\n",
       "      <td>5</td>\n",
       "      <td>0.643860</td>\n",
       "      <td>0.237663</td>\n",
       "      <td>0.971412</td>\n",
       "      <td>0.347175</td>\n",
       "      <td>0.749990</td>\n",
       "    </tr>\n",
       "  </tbody>\n",
       "</table>\n",
       "</div>"
      ],
      "text/plain": [
       "   Split  Precision    Recall      RMSE  F1 Score       MAE\n",
       "0      1   0.660546  0.253140  0.961238  0.366013  0.744061\n",
       "1      2   0.650219  0.246703  0.979441  0.357692  0.753912\n",
       "2      3   0.642295  0.244734  0.969965  0.354422  0.750371\n",
       "3      4   0.658907  0.250208  0.983169  0.362690  0.758474\n",
       "4      5   0.643860  0.237663  0.971412  0.347175  0.749990"
      ]
     },
     "execution_count": 17,
     "metadata": {},
     "output_type": "execute_result"
    }
   ],
   "source": [
    "# Generating evaluation metrics Precision, Recall, F1-Score, RMSE, MAE for the ratings dataset\n",
    "pearson_metrics = fit(pearson_knn, ratings_data)\n",
    "pearson_metrics"
   ]
  },
  {
   "cell_type": "code",
   "execution_count": 18,
   "metadata": {
    "colab": {
     "base_uri": "https://localhost:8080/"
    },
    "id": "OkOFuE-zAV4d",
    "outputId": "b0ad642b-292b-47b7-d229-21beab1158e0"
   },
   "outputs": [
    {
     "name": "stdout",
     "output_type": "stream",
     "text": [
      "Computing the pearson similarity matrix...\n",
      "Done computing similarity matrix.\n"
     ]
    }
   ],
   "source": [
    "\n",
    "pearson_predictions = inference(pearson_knn)"
   ]
  },
  {
   "cell_type": "code",
   "execution_count": 19,
   "metadata": {
    "id": "zcqZrSv3AV2R"
   },
   "outputs": [],
   "source": [
    "\n",
    "pearson_df = getRecommendations(pearson_predictions)\n",
    "pearson_df.to_csv('pearson_knn.csv',index = False)"
   ]
  },
  {
   "cell_type": "markdown",
   "metadata": {
    "id": "L9sZqKkPOR6l"
   },
   "source": [
    "### Using Cosine similarity"
   ]
  },
  {
   "cell_type": "code",
   "execution_count": 20,
   "metadata": {
    "id": "TGu8XfQbOR6t"
   },
   "outputs": [],
   "source": [
    "# Defining the similarity options with cosine similarity.\n",
    "sim_options = {\n",
    "    'name': 'cosine'\n",
    "}\n",
    "\n",
    "cosine_knn = KNNBasic(k= 35, n_epochs=25)\n",
    "#cosine_preds = cosine_knn.fit(trainset).test(testset)\n"
   ]
  },
  {
   "cell_type": "code",
   "execution_count": 21,
   "metadata": {
    "colab": {
     "base_uri": "https://localhost:8080/",
     "height": 380
    },
    "id": "B_NTkTKtOR6t",
    "outputId": "433bec97-ee5d-400e-8b3a-c659b4cf4b01"
   },
   "outputs": [
    {
     "name": "stdout",
     "output_type": "stream",
     "text": [
      "Computing the msd similarity matrix...\n",
      "Done computing similarity matrix.\n",
      "Computing the msd similarity matrix...\n",
      "Done computing similarity matrix.\n",
      "Computing the msd similarity matrix...\n",
      "Done computing similarity matrix.\n",
      "Computing the msd similarity matrix...\n",
      "Done computing similarity matrix.\n",
      "Computing the msd similarity matrix...\n",
      "Done computing similarity matrix.\n"
     ]
    },
    {
     "data": {
      "text/html": [
       "<div>\n",
       "<style scoped>\n",
       "    .dataframe tbody tr th:only-of-type {\n",
       "        vertical-align: middle;\n",
       "    }\n",
       "\n",
       "    .dataframe tbody tr th {\n",
       "        vertical-align: top;\n",
       "    }\n",
       "\n",
       "    .dataframe thead th {\n",
       "        text-align: right;\n",
       "    }\n",
       "</style>\n",
       "<table border=\"1\" class=\"dataframe\">\n",
       "  <thead>\n",
       "    <tr style=\"text-align: right;\">\n",
       "      <th></th>\n",
       "      <th>Split</th>\n",
       "      <th>Precision</th>\n",
       "      <th>Recall</th>\n",
       "      <th>RMSE</th>\n",
       "      <th>F1 Score</th>\n",
       "      <th>MAE</th>\n",
       "    </tr>\n",
       "  </thead>\n",
       "  <tbody>\n",
       "    <tr>\n",
       "      <th>0</th>\n",
       "      <td>1</td>\n",
       "      <td>0.667596</td>\n",
       "      <td>0.274070</td>\n",
       "      <td>0.950828</td>\n",
       "      <td>0.388605</td>\n",
       "      <td>0.729382</td>\n",
       "    </tr>\n",
       "    <tr>\n",
       "      <th>1</th>\n",
       "      <td>2</td>\n",
       "      <td>0.676355</td>\n",
       "      <td>0.267268</td>\n",
       "      <td>0.946588</td>\n",
       "      <td>0.383136</td>\n",
       "      <td>0.722245</td>\n",
       "    </tr>\n",
       "    <tr>\n",
       "      <th>2</th>\n",
       "      <td>3</td>\n",
       "      <td>0.657718</td>\n",
       "      <td>0.254623</td>\n",
       "      <td>0.939984</td>\n",
       "      <td>0.367122</td>\n",
       "      <td>0.716903</td>\n",
       "    </tr>\n",
       "    <tr>\n",
       "      <th>3</th>\n",
       "      <td>4</td>\n",
       "      <td>0.660301</td>\n",
       "      <td>0.270438</td>\n",
       "      <td>0.956019</td>\n",
       "      <td>0.383717</td>\n",
       "      <td>0.733120</td>\n",
       "    </tr>\n",
       "    <tr>\n",
       "      <th>4</th>\n",
       "      <td>5</td>\n",
       "      <td>0.677732</td>\n",
       "      <td>0.276924</td>\n",
       "      <td>0.943801</td>\n",
       "      <td>0.393189</td>\n",
       "      <td>0.725030</td>\n",
       "    </tr>\n",
       "  </tbody>\n",
       "</table>\n",
       "</div>"
      ],
      "text/plain": [
       "   Split  Precision    Recall      RMSE  F1 Score       MAE\n",
       "0      1   0.667596  0.274070  0.950828  0.388605  0.729382\n",
       "1      2   0.676355  0.267268  0.946588  0.383136  0.722245\n",
       "2      3   0.657718  0.254623  0.939984  0.367122  0.716903\n",
       "3      4   0.660301  0.270438  0.956019  0.383717  0.733120\n",
       "4      5   0.677732  0.276924  0.943801  0.393189  0.725030"
      ]
     },
     "execution_count": 21,
     "metadata": {},
     "output_type": "execute_result"
    }
   ],
   "source": [
    "# Generating evaluation metrics Precision, Recall, F1-Score, RMSE, MAE for the ratings dataset\n",
    "cosine_metrics = fit(cosine_knn, ratings_data)\n",
    "cosine_metrics"
   ]
  },
  {
   "cell_type": "code",
   "execution_count": 22,
   "metadata": {
    "colab": {
     "base_uri": "https://localhost:8080/"
    },
    "id": "9D4LC5uVOR6u",
    "outputId": "43c7051c-0649-4341-f35d-aecc017e1e65"
   },
   "outputs": [
    {
     "name": "stdout",
     "output_type": "stream",
     "text": [
      "Computing the msd similarity matrix...\n",
      "Done computing similarity matrix.\n"
     ]
    }
   ],
   "source": [
    "cosine_predictions = inference(cosine_knn)\n"
   ]
  },
  {
   "cell_type": "code",
   "execution_count": 23,
   "metadata": {
    "id": "9_ZN5wffOR6u"
   },
   "outputs": [],
   "source": [
    "cosine_df = getRecommendations(cosine_predictions)\n",
    "cosine_df.to_csv('cosine_knn.csv',index = False)\n"
   ]
  },
  {
   "cell_type": "code",
   "execution_count": null,
   "metadata": {
    "id": "50hJ3YPhDkJS"
   },
   "outputs": [],
   "source": []
  },
  {
   "cell_type": "code",
   "execution_count": null,
   "metadata": {
    "id": "MMxbjBHbOYIt"
   },
   "outputs": [],
   "source": []
  },
  {
   "cell_type": "code",
   "execution_count": null,
   "metadata": {
    "id": "MImclYv0OYFU"
   },
   "outputs": [],
   "source": []
  }
 ],
 "metadata": {
  "accelerator": "GPU",
  "colab": {
   "provenance": []
  },
  "gpuClass": "standard",
  "kernelspec": {
   "display_name": "Python 3 (ipykernel)",
   "language": "python",
   "name": "python3"
  },
  "language_info": {
   "codemirror_mode": {
    "name": "ipython",
    "version": 3
   },
   "file_extension": ".py",
   "mimetype": "text/x-python",
   "name": "python",
   "nbconvert_exporter": "python",
   "pygments_lexer": "ipython3",
   "version": "3.9.13"
  }
 },
 "nbformat": 4,
 "nbformat_minor": 4
}
